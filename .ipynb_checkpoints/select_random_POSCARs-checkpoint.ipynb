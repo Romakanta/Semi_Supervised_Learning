{
 "cells": [
  {
   "cell_type": "code",
   "execution_count": 17,
   "id": "468a23c6",
   "metadata": {},
   "outputs": [],
   "source": [
    "import os\n",
    "import random\n",
    "import shutil\n",
    "\n",
    "# Define the source and destination directories\n",
    "source_dir = 'Generate_MBT_POSCARs/POSCARs'\n",
    "destination_dir_500 = 'random_500_unlabelled_POSCARs'\n",
    "destination_dir_1000 = 'random_1000_unlabelled_POSCARs'\n",
    "destination_dir_2000 = 'random_2000_unlabelled_POSCARs'\n",
    "destination_dir_3000 = 'random_3000_unlabelled_POSCARs'\n",
    "destination_dir_4000 = 'random_4000_unlabelled_POSCARs'\n",
    "destination_dir_5000 = 'random_5000_unlabelled_POSCARs'\n",
    "\n",
    "dest_dirs = [destination_dir_500, destination_dir_1000, destination_dir_2000, destination_dir_3000, destination_dir_4000, destination_dir_5000]\n",
    "\n",
    "# Create the destination directories if they don't exist\n",
    "for i in dest_dirs:\n",
    "    os.makedirs(i, exist_ok=True)\n",
    "\n",
    "# Get the list of all files in the source directory\n",
    "all_files = os.listdir(source_dir)\n",
    "\n",
    "# Filter out only the files (exclude directories)\n",
    "all_files = [f for f in all_files if os.path.isfile(os.path.join(source_dir, f))]\n",
    "\n",
    "# Randomly select n files from the list\n",
    "POSCARs_500 = random.sample(all_files, 500)\n",
    "POSCARs_1000 = random.sample(all_files, 1000)\n",
    "POSCARs_2000 = random.sample(all_files, 2000)\n",
    "POSCARs_3000 = random.sample(all_files, 3000)\n",
    "POSCARs_4000 = random.sample(all_files, 4000)\n",
    "POSCARs_5000 = random.sample(all_files, 5000)\n",
    "\n",
    "POSCARs_dirs = [POSCARs_500, POSCARs_1000, POSCARs_2000, POSCARs_3000, POSCARs_4000, POSCARs_5000]\n",
    "\n",
    "# Copy the selected files to the destination directories\n",
    "for i in range(len(POSCARs_dirs)):\n",
    "    for POSCAR in POSCARs_dirs[i]:\n",
    "        full_file_name = os.path.join(source_dir, POSCAR)\n",
    "        shutil.copy(full_file_name, dest_dirs[i])"
   ]
  }
 ],
 "metadata": {
  "kernelspec": {
   "display_name": "vSOAP",
   "language": "python",
   "name": "vsoap"
  },
  "language_info": {
   "codemirror_mode": {
    "name": "ipython",
    "version": 3
   },
   "file_extension": ".py",
   "mimetype": "text/x-python",
   "name": "python",
   "nbconvert_exporter": "python",
   "pygments_lexer": "ipython3",
   "version": "3.9.7"
  }
 },
 "nbformat": 4,
 "nbformat_minor": 5
}
