{
 "cells": [
  {
   "cell_type": "code",
   "execution_count": 10,
   "id": "652e460a",
   "metadata": {},
   "outputs": [],
   "source": [
    "import os\n",
    "import csv\n",
    "import pandas as pd\n",
    "\n",
    "path_to_POSCAR_500 = 'added_500_unlabelled_data/'\n",
    "path_to_POSCAR_1000 = 'added_1000_unlabelled_data/'\n",
    "path_to_POSCAR_2000 = 'added_2000_unlabelled_data/'\n",
    "path_to_POSCAR_3000 = 'added_3000_unlabelled_data/'\n",
    "path_to_POSCAR_4000 = 'added_4000_unlabelled_data/'\n",
    "path_to_POSCAR_5000 = 'added_5000_unlabelled_data/'\n",
    "\n",
    "poscar_files_500 = []\n",
    "poscar_files_1000 = []\n",
    "poscar_files_2000 = []\n",
    "poscar_files_3000 = []\n",
    "poscar_files_4000 = []\n",
    "poscar_files_5000 = []\n",
    "\n",
    "for filename in os.listdir(path_to_POSCAR_500):\n",
    "    if filename.endswith('.vasp'):\n",
    "        poscar_files_500.append(filename)\n",
    "        \n",
    "for filename in os.listdir(path_to_POSCAR_1000):\n",
    "    if filename.endswith('.vasp'):\n",
    "        poscar_files_1000.append(filename)\n",
    "\n",
    "for filename in os.listdir(path_to_POSCAR_2000):\n",
    "    if filename.endswith('.vasp'):\n",
    "        poscar_files_2000.append(filename)\n",
    "        \n",
    "for filename in os.listdir(path_to_POSCAR_3000):\n",
    "    if filename.endswith('.vasp'):\n",
    "        poscar_files_3000.append(filename)\n",
    "        \n",
    "for filename in os.listdir(path_to_POSCAR_4000):\n",
    "    if filename.endswith('.vasp'):\n",
    "        poscar_files_4000.append(filename)\n",
    "        \n",
    "for filename in os.listdir(path_to_POSCAR_5000):\n",
    "    if filename.endswith('.vasp'):\n",
    "        poscar_files_5000.append(filename)\n",
    "        \n",
    "poscar_files_500_pd = pd.DataFrame(poscar_files_500)\n",
    "poscar_files_1000_pd = pd.DataFrame(poscar_files_1000)\n",
    "poscar_files_2000_pd = pd.DataFrame(poscar_files_2000)\n",
    "poscar_files_3000_pd = pd.DataFrame(poscar_files_3000)\n",
    "poscar_files_4000_pd = pd.DataFrame(poscar_files_4000)\n",
    "poscar_files_5000_pd = pd.DataFrame(poscar_files_5000)\n",
    "\n",
    "poscar_files_500_pd.to_csv('added_500_unlabelled_data/500_unlabelled_data.csv',index = None)\n",
    "poscar_files_1000_pd.to_csv('added_1000_unlabelled_data/1000_unlabelled_data.csv',index = None)\n",
    "poscar_files_2000_pd.to_csv('added_2000_unlabelled_data/2000_unlabelled_data.csv',index = None)\n",
    "poscar_files_3000_pd.to_csv('added_3000_unlabelled_data/2000_unlabelled_data.csv',index = None)\n",
    "poscar_files_4000_pd.to_csv('added_4000_unlabelled_data/4000_unlabelled_data.csv',index = None)\n",
    "poscar_files_5000_pd.to_csv('added_5000_unlabelled_data/5000_unlabelled_data.csv',index = None)"
   ]
  },
  {
   "cell_type": "code",
   "execution_count": 5,
   "id": "cb35b0c5",
   "metadata": {},
   "outputs": [],
   "source": []
  },
  {
   "cell_type": "code",
   "execution_count": 9,
   "id": "32456df2",
   "metadata": {},
   "outputs": [],
   "source": []
  },
  {
   "cell_type": "code",
   "execution_count": null,
   "id": "4e944050",
   "metadata": {},
   "outputs": [],
   "source": []
  }
 ],
 "metadata": {
  "kernelspec": {
   "display_name": "vSOAP",
   "language": "python",
   "name": "vsoap"
  },
  "language_info": {
   "codemirror_mode": {
    "name": "ipython",
    "version": 3
   },
   "file_extension": ".py",
   "mimetype": "text/x-python",
   "name": "python",
   "nbconvert_exporter": "python",
   "pygments_lexer": "ipython3",
   "version": "3.9.7"
  }
 },
 "nbformat": 4,
 "nbformat_minor": 5
}
